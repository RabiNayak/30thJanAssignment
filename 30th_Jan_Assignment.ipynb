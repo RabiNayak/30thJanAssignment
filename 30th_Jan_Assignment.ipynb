{
 "cells": [
  {
   "cell_type": "markdown",
   "id": "fa813e98-05e9-4f06-8451-2b1b3eb4bbf3",
   "metadata": {},
   "source": [
    "1)"
   ]
  },
  {
   "cell_type": "code",
   "execution_count": 16,
   "id": "ea91e41c-9122-42f5-aad8-f150ae5727e0",
   "metadata": {},
   "outputs": [
    {
     "name": "stdin",
     "output_type": "stream",
     "text": [
      "Enter Your Percentage 59\n"
     ]
    },
    {
     "name": "stdout",
     "output_type": "stream",
     "text": [
      "Grade D\n"
     ]
    }
   ],
   "source": [
    "percentage=int(input(\"Enter Your Percentage\"))\n",
    "if percentage>90:\n",
    "    print(\"Grade A\")\n",
    "elif percentage<=90 and percentage>80:\n",
    "    print(\"Grade B\")\n",
    "elif percentage<=80 and percentage>=60:\n",
    "    print(\"Grade C\")\n",
    "else:\n",
    "    print(\"Grade D\")"
   ]
  },
  {
   "cell_type": "markdown",
   "id": "e1dfefa8-20ec-4637-ac07-b6c30dedd6fe",
   "metadata": {},
   "source": [
    "2)"
   ]
  },
  {
   "cell_type": "code",
   "execution_count": 21,
   "id": "66f0aae8-124e-4d62-873e-17a28880a521",
   "metadata": {},
   "outputs": [
    {
     "name": "stdin",
     "output_type": "stream",
     "text": [
      "Enter The Cost Price Of The Bike 100000\n"
     ]
    },
    {
     "name": "stdout",
     "output_type": "stream",
     "text": [
      "Tax To Be Paid 10%\n"
     ]
    }
   ],
   "source": [
    "costprice=int(input(\"Enter The Cost Price Of The Bike\"))\n",
    "if costprice>100000:\n",
    "    print(\"Tax To Be Paid 15%\")\n",
    "elif costprice<=100000 and costprice>50000:\n",
    "    print(\"Tax To Be Paid 10%\")\n",
    "elif costprice<=50000:\n",
    "    print(\"Tax To Be Paid 5%\")"
   ]
  },
  {
   "cell_type": "markdown",
   "id": "95ca4edd-61e7-4e2f-92ec-93aa348da85a",
   "metadata": {},
   "source": [
    "3)"
   ]
  },
  {
   "cell_type": "code",
   "execution_count": 1,
   "id": "f996d25e-754e-4cb7-b01b-188c55365022",
   "metadata": {},
   "outputs": [
    {
     "name": "stdin",
     "output_type": "stream",
     "text": [
      "Enter The City To Find The Monument jj\n"
     ]
    },
    {
     "name": "stdout",
     "output_type": "stream",
     "text": [
      "Enter The Correct City\n"
     ]
    }
   ],
   "source": [
    "city=input(\"Enter The City To Find The Monument\")\n",
    "if city==\"Delhi\" or city==\"delhi\":\n",
    "    print(\"The Monument is Red Fort\")\n",
    "elif city==\"Agra\" or city==\"agra\":\n",
    "    print(\"The Monument is Taj Mahal\")\n",
    "elif city==\"Jaipur\" or city==\"jaipur\":\n",
    "    print(\"The Monument is Jal Mahal\")\n",
    "else:\n",
    "    print(\"Enter The Correct City\")"
   ]
  },
  {
   "cell_type": "markdown",
   "id": "94f66c9b-4f4c-4d46-a9b0-ce5aa08371b5",
   "metadata": {},
   "source": [
    "7)"
   ]
  },
  {
   "cell_type": "code",
   "execution_count": 1,
   "id": "34ffd720-5949-4349-b21c-449209cca43b",
   "metadata": {},
   "outputs": [
    {
     "name": "stdout",
     "output_type": "stream",
     "text": [
      "10\n",
      "9\n",
      "8\n",
      "7\n",
      "6\n",
      "5\n",
      "4\n",
      "3\n",
      "2\n",
      "1\n"
     ]
    }
   ],
   "source": [
    "i=10\n",
    "while i>0:\n",
    "    print(i)\n",
    "    i=i-1"
   ]
  },
  {
   "cell_type": "markdown",
   "id": "0157cc51-6bac-4d25-870b-cbe0fd72282e",
   "metadata": {},
   "source": [
    "5)Why and when to use while loop?\n",
    "    While loop is used to run the code until the condition is false.\n",
    "    The while loop is used when the user knows what the condition is. \n",
    "    Ex\n",
    "a=1\n",
    "while a<=10:\n",
    "    print(a)\n",
    "    a=a+1\n",
    "    This code print from 1 to 10\n",
    "  "
   ]
  },
  {
   "cell_type": "code",
   "execution_count": 8,
   "id": "a5674c35-7c81-4994-bf33-1775baa59b5f",
   "metadata": {},
   "outputs": [
    {
     "data": {
      "text/plain": [
       "False"
      ]
     },
     "execution_count": 8,
     "metadata": {},
     "output_type": "execute_result"
    }
   ],
   "source": [
    "54/3<10"
   ]
  },
  {
   "cell_type": "code",
   "execution_count": null,
   "id": "8228c0bb-633a-4da4-b65a-e1198508bce3",
   "metadata": {},
   "outputs": [],
   "source": []
  }
 ],
 "metadata": {
  "kernelspec": {
   "display_name": "Python 3 (ipykernel)",
   "language": "python",
   "name": "python3"
  },
  "language_info": {
   "codemirror_mode": {
    "name": "ipython",
    "version": 3
   },
   "file_extension": ".py",
   "mimetype": "text/x-python",
   "name": "python",
   "nbconvert_exporter": "python",
   "pygments_lexer": "ipython3",
   "version": "3.10.8"
  }
 },
 "nbformat": 4,
 "nbformat_minor": 5
}
